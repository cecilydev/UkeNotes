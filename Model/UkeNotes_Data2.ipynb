{
  "nbformat": 4,
  "nbformat_minor": 0,
  "metadata": {
    "colab": {
      "name": "UkeNotes_Data2.ipynb",
      "provenance": []
    },
    "kernelspec": {
      "name": "python3",
      "display_name": "Python 3"
    },
    "language_info": {
      "name": "python"
    }
  },
  "cells": [
    {
      "cell_type": "code",
      "execution_count": 47,
      "metadata": {
        "id": "mdfE9INI-E7o"
      },
      "outputs": [],
      "source": [
        "import librosa, os\n",
        "import librosa.display\n",
        "import matplotlib.pyplot as plt\n",
        "import numpy as np\n",
        "import pandas as pd\n",
        "from tqdm import tqdm\n",
        "\n",
        "\n",
        "from IPython.display import Audio"
      ]
    },
    {
      "cell_type": "markdown",
      "source": [
        "##### Function to get dominant frequency from audio sample"
      ],
      "metadata": {
        "id": "wkyQZfBPxAb-"
      }
    },
    {
      "cell_type": "code",
      "source": [
        "def get_dom_freq(file_name):\n",
        "  audio_samples, sample_rate = librosa.load(file_name, sr=None)\n",
        "  w = np.fft.fft(audio_samples)\n",
        "  freqs = np.fft.fftfreq(len(w))\n",
        "  idx = np.argmax(np.abs(w))\n",
        "  freq = freqs[idx]\n",
        "  freq_in_hertz = abs(freq * sample_rate)\n",
        "  return freq_in_hertz"
      ],
      "metadata": {
        "id": "Jxc2gfH6BhHY"
      },
      "execution_count": 5,
      "outputs": []
    },
    {
      "cell_type": "code",
      "source": [
        "audio_dataset_path='/content/drive/MyDrive/'\n",
        "metadata=pd.read_excel('/content/drive/MyDrive/Data.xlsx')"
      ],
      "metadata": {
        "id": "-I5XQPzWrKvl"
      },
      "execution_count": 2,
      "outputs": []
    },
    {
      "cell_type": "markdown",
      "source": [
        "##### Extract dominant frequency from each sample in dataset\n",
        "Add to pandas dataframe for analysis"
      ],
      "metadata": {
        "id": "qBJ2uBjrxLy7"
      }
    },
    {
      "cell_type": "code",
      "source": [
        "extracted_features=[]\n",
        "for index_num,row in tqdm(metadata.iterrows()):\n",
        "    file_name = os.path.join(os.path.abspath(audio_dataset_path),str(row[\"Path\"]))\n",
        "    final_class_labels=row[\"Category\"]\n",
        "    data=get_dom_freq(file_name)\n",
        "    extracted_features.append([data,final_class_labels])"
      ],
      "metadata": {
        "colab": {
          "base_uri": "https://localhost:8080/"
        },
        "id": "4MPA5o7Urb-M",
        "outputId": "6a30f57a-7146-497b-dc3f-4b822929a3b3"
      },
      "execution_count": 6,
      "outputs": [
        {
          "output_type": "stream",
          "name": "stderr",
          "text": [
            "871it [06:56,  2.09it/s]\n"
          ]
        }
      ]
    },
    {
      "cell_type": "code",
      "source": [
        "df=pd.DataFrame(extracted_features,columns=['feature','class'])\n",
        "df.head()"
      ],
      "metadata": {
        "colab": {
          "base_uri": "https://localhost:8080/",
          "height": 206
        },
        "id": "MZBFQXeNrnd4",
        "outputId": "e845e94e-fd67-4f9c-ea2e-991ca3d5d8b3"
      },
      "execution_count": 8,
      "outputs": [
        {
          "output_type": "execute_result",
          "data": {
            "text/plain": [
              "      feature class\n",
              "0  438.575899     A\n",
              "1  438.508303     A\n",
              "2  438.182419     A\n",
              "3  438.052647     A\n",
              "4  437.858559     A"
            ],
            "text/html": [
              "\n",
              "  <div id=\"df-5bd45e56-38f1-4a3a-87d6-a7516d29b783\">\n",
              "    <div class=\"colab-df-container\">\n",
              "      <div>\n",
              "<style scoped>\n",
              "    .dataframe tbody tr th:only-of-type {\n",
              "        vertical-align: middle;\n",
              "    }\n",
              "\n",
              "    .dataframe tbody tr th {\n",
              "        vertical-align: top;\n",
              "    }\n",
              "\n",
              "    .dataframe thead th {\n",
              "        text-align: right;\n",
              "    }\n",
              "</style>\n",
              "<table border=\"1\" class=\"dataframe\">\n",
              "  <thead>\n",
              "    <tr style=\"text-align: right;\">\n",
              "      <th></th>\n",
              "      <th>feature</th>\n",
              "      <th>class</th>\n",
              "    </tr>\n",
              "  </thead>\n",
              "  <tbody>\n",
              "    <tr>\n",
              "      <th>0</th>\n",
              "      <td>438.575899</td>\n",
              "      <td>A</td>\n",
              "    </tr>\n",
              "    <tr>\n",
              "      <th>1</th>\n",
              "      <td>438.508303</td>\n",
              "      <td>A</td>\n",
              "    </tr>\n",
              "    <tr>\n",
              "      <th>2</th>\n",
              "      <td>438.182419</td>\n",
              "      <td>A</td>\n",
              "    </tr>\n",
              "    <tr>\n",
              "      <th>3</th>\n",
              "      <td>438.052647</td>\n",
              "      <td>A</td>\n",
              "    </tr>\n",
              "    <tr>\n",
              "      <th>4</th>\n",
              "      <td>437.858559</td>\n",
              "      <td>A</td>\n",
              "    </tr>\n",
              "  </tbody>\n",
              "</table>\n",
              "</div>\n",
              "      <button class=\"colab-df-convert\" onclick=\"convertToInteractive('df-5bd45e56-38f1-4a3a-87d6-a7516d29b783')\"\n",
              "              title=\"Convert this dataframe to an interactive table.\"\n",
              "              style=\"display:none;\">\n",
              "        \n",
              "  <svg xmlns=\"http://www.w3.org/2000/svg\" height=\"24px\"viewBox=\"0 0 24 24\"\n",
              "       width=\"24px\">\n",
              "    <path d=\"M0 0h24v24H0V0z\" fill=\"none\"/>\n",
              "    <path d=\"M18.56 5.44l.94 2.06.94-2.06 2.06-.94-2.06-.94-.94-2.06-.94 2.06-2.06.94zm-11 1L8.5 8.5l.94-2.06 2.06-.94-2.06-.94L8.5 2.5l-.94 2.06-2.06.94zm10 10l.94 2.06.94-2.06 2.06-.94-2.06-.94-.94-2.06-.94 2.06-2.06.94z\"/><path d=\"M17.41 7.96l-1.37-1.37c-.4-.4-.92-.59-1.43-.59-.52 0-1.04.2-1.43.59L10.3 9.45l-7.72 7.72c-.78.78-.78 2.05 0 2.83L4 21.41c.39.39.9.59 1.41.59.51 0 1.02-.2 1.41-.59l7.78-7.78 2.81-2.81c.8-.78.8-2.07 0-2.86zM5.41 20L4 18.59l7.72-7.72 1.47 1.35L5.41 20z\"/>\n",
              "  </svg>\n",
              "      </button>\n",
              "      \n",
              "  <style>\n",
              "    .colab-df-container {\n",
              "      display:flex;\n",
              "      flex-wrap:wrap;\n",
              "      gap: 12px;\n",
              "    }\n",
              "\n",
              "    .colab-df-convert {\n",
              "      background-color: #E8F0FE;\n",
              "      border: none;\n",
              "      border-radius: 50%;\n",
              "      cursor: pointer;\n",
              "      display: none;\n",
              "      fill: #1967D2;\n",
              "      height: 32px;\n",
              "      padding: 0 0 0 0;\n",
              "      width: 32px;\n",
              "    }\n",
              "\n",
              "    .colab-df-convert:hover {\n",
              "      background-color: #E2EBFA;\n",
              "      box-shadow: 0px 1px 2px rgba(60, 64, 67, 0.3), 0px 1px 3px 1px rgba(60, 64, 67, 0.15);\n",
              "      fill: #174EA6;\n",
              "    }\n",
              "\n",
              "    [theme=dark] .colab-df-convert {\n",
              "      background-color: #3B4455;\n",
              "      fill: #D2E3FC;\n",
              "    }\n",
              "\n",
              "    [theme=dark] .colab-df-convert:hover {\n",
              "      background-color: #434B5C;\n",
              "      box-shadow: 0px 1px 3px 1px rgba(0, 0, 0, 0.15);\n",
              "      filter: drop-shadow(0px 1px 2px rgba(0, 0, 0, 0.3));\n",
              "      fill: #FFFFFF;\n",
              "    }\n",
              "  </style>\n",
              "\n",
              "      <script>\n",
              "        const buttonEl =\n",
              "          document.querySelector('#df-5bd45e56-38f1-4a3a-87d6-a7516d29b783 button.colab-df-convert');\n",
              "        buttonEl.style.display =\n",
              "          google.colab.kernel.accessAllowed ? 'block' : 'none';\n",
              "\n",
              "        async function convertToInteractive(key) {\n",
              "          const element = document.querySelector('#df-5bd45e56-38f1-4a3a-87d6-a7516d29b783');\n",
              "          const dataTable =\n",
              "            await google.colab.kernel.invokeFunction('convertToInteractive',\n",
              "                                                     [key], {});\n",
              "          if (!dataTable) return;\n",
              "\n",
              "          const docLinkHtml = 'Like what you see? Visit the ' +\n",
              "            '<a target=\"_blank\" href=https://colab.research.google.com/notebooks/data_table.ipynb>data table notebook</a>'\n",
              "            + ' to learn more about interactive tables.';\n",
              "          element.innerHTML = '';\n",
              "          dataTable['output_type'] = 'display_data';\n",
              "          await google.colab.output.renderOutput(dataTable, element);\n",
              "          const docLink = document.createElement('div');\n",
              "          docLink.innerHTML = docLinkHtml;\n",
              "          element.appendChild(docLink);\n",
              "        }\n",
              "      </script>\n",
              "    </div>\n",
              "  </div>\n",
              "  "
            ]
          },
          "metadata": {},
          "execution_count": 8
        }
      ]
    },
    {
      "cell_type": "markdown",
      "source": [
        "##### Get Mean, Median and Range of dominant frequencies for each category"
      ],
      "metadata": {
        "id": "wKRZ55ljxY6m"
      }
    },
    {
      "cell_type": "code",
      "source": [
        "categories = df['class'].unique()\n",
        "actual_exp_vals = {'A': 440.00, 'B': 493.88, 'C_high': 523.25, 'C_low': 261.63, \n",
        "                   'D': 293.66, 'E': 329.63, 'F': 349.23, 'G': 392.00, 'backg': 'NA'}\n",
        "for i in categories:\n",
        "  temp_df = df[(df['class']==i)]\n",
        "  print(i)\n",
        "  print(\"Expected\", actual_exp_vals[i])\n",
        "  print(\"Mean\", temp_df['feature'].mean())\n",
        "  print(\"Median\", temp_df['feature'].median())\n",
        "  print(\"Range\", temp_df['feature'].min(), \"-\", temp_df['feature'].max(), temp_df['feature'].max()-temp_df['feature'].min())\n",
        "  print()"
      ],
      "metadata": {
        "colab": {
          "base_uri": "https://localhost:8080/"
        },
        "id": "t3TBOTfPuQTz",
        "outputId": "85716f06-080f-491e-ba60-63bd03a779f0"
      },
      "execution_count": 20,
      "outputs": [
        {
          "output_type": "stream",
          "name": "stdout",
          "text": [
            "A\n",
            "Expected 440.0\n",
            "Mean 452.1485930945203\n",
            "Median 438.8838955654455\n",
            "Range 437.21017813552095 - 881.8124634548258 444.6022853193048\n",
            "\n",
            "B\n",
            "Expected 493.88\n",
            "Mean 515.7970914521438\n",
            "Median 497.3439269826157\n",
            "Range 90.24435617678114 - 1512.7505098986292 1422.506153721848\n",
            "\n",
            "C_high\n",
            "Expected 523.25\n",
            "Mean 755.5064335770558\n",
            "Median 525.4554943783282\n",
            "Range 49.68012650247528 - 2650.378205885829 2600.698079383354\n",
            "\n",
            "C_low\n",
            "Expected 261.63\n",
            "Mean 262.3392614368394\n",
            "Median 262.1367759614783\n",
            "Range 260.5750909405855 - 265.7553241588614 5.18023321827593\n",
            "\n",
            "D\n",
            "Expected 293.66\n",
            "Mean 298.1430780344393\n",
            "Median 298.1437767395249\n",
            "Range 295.36662168241116 - 300.2252862243014 4.858664541890221\n",
            "\n",
            "E\n",
            "Expected 329.63\n",
            "Mean 329.65892819324006\n",
            "Median 329.5522646696039\n",
            "Range 328.768597808927 - 330.7071575622783 1.938559753351342\n",
            "\n",
            "F\n",
            "Expected 349.23\n",
            "Mean 356.99625930564633\n",
            "Median 357.02970485811966\n",
            "Range 352.63538302485796 - 361.06228403766846 8.426901012810504\n",
            "\n",
            "G\n",
            "Expected 392.0\n",
            "Mean 408.5151253597809\n",
            "Median 396.1291196099269\n",
            "Range 390.6519508111125 - 1594.0472991131414 1203.3953483020289\n",
            "\n",
            "backg\n",
            "Expected NA\n",
            "Mean 125.99059718367494\n",
            "Median 68.8836684565907\n",
            "Range 0.0 - 1886.1369787604938 1886.1369787604938\n",
            "\n"
          ]
        }
      ]
    },
    {
      "cell_type": "code",
      "source": [
        "def get_top_five_freq(file_name):\n",
        "  audio_samples, sample_rate = librosa.load(file_name, sr=None)\n",
        "  w = np.fft.fft(audio_samples)\n",
        "  freqs = np.fft.fftfreq(len(w))\n",
        "  print(freqs[:10])\n",
        "  print(freqs[-10:])\n",
        "  for i in range(5):\n",
        "    idx = np.argmax(np.abs(w))\n",
        "    freq = freqs[idx]\n",
        "    freq_in_hertz = abs(freq * sample_rate)\n",
        "    print(freq_in_hertz)\n",
        "    w = np.delete(w, idx)\n",
        "    freqs = np.delete(freqs, idx)\n",
        "  return freq_in_hertz"
      ],
      "metadata": {
        "id": "57PB3CALlGlZ"
      },
      "execution_count": 44,
      "outputs": []
    },
    {
      "cell_type": "code",
      "source": [
        "get_top_five_freq('/content/drive/MyDrive/Notes/C (low)/1648419817170.wav')"
      ],
      "metadata": {
        "colab": {
          "base_uri": "https://localhost:8080/"
        },
        "id": "xtu37agQmJnj",
        "outputId": "de5cc5a2-6a9a-413d-c254-e01ac2954931"
      },
      "execution_count": 45,
      "outputs": [
        {
          "output_type": "stream",
          "name": "stdout",
          "text": [
            "[0.00000000e+00 7.64561065e-06 1.52912213e-05 2.29368320e-05\n",
            " 3.05824426e-05 3.82280533e-05 4.58736639e-05 5.35192746e-05\n",
            " 6.11648852e-05 6.88104959e-05]\n",
            "[-7.64561065e-05 -6.88104959e-05 -6.11648852e-05 -5.35192746e-05\n",
            " -4.58736639e-05 -3.82280533e-05 -3.05824426e-05 -2.29368320e-05\n",
            " -1.52912213e-05 -7.64561065e-06]\n",
            "261.64502958851324\n",
            "261.64502958851324\n",
            "261.98220101839536\n",
            "261.98220101839536\n",
            "261.3078581586312\n"
          ]
        },
        {
          "output_type": "execute_result",
          "data": {
            "text/plain": [
              "261.3078581586312"
            ]
          },
          "metadata": {},
          "execution_count": 45
        }
      ]
    }
  ]
}